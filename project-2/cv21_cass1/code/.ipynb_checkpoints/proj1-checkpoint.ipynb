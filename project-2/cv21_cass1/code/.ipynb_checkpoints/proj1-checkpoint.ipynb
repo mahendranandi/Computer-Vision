{
 "cells": [
  {
   "cell_type": "markdown",
   "metadata": {
    "deletable": true,
    "editable": true
   },
   "source": [
    "# CVPR Project 1: Image Filtering and Hybrid Images\n",
    "\n",
    "All projects in this course will be done with these iPython notebooks. These are convenient ways for you to quickly and easily interact with the code. A notebook contains many blocks of code, each of which can be run independently. You can run a cell with ctrl+enter or shift+enter (to move to the next cell).\n",
    "\n",
    "If there are any notes you wish to leave for me as I test your code, you may leave them here.\n",
    "\n",
    "A few numpy methods you should be familiar with are:\n",
    "\n",
    "np.multiply,\n",
    "np.sum,\n",
    "numpy.dstack,\n",
    "numpy.pad (for this project, you should use 'reflect'),\n",
    "along with many others. You may not need to use all of these methods. \n",
    "\n",
    "\n",
    "## Setup"
   ]
  },
  {
   "cell_type": "code",
   "execution_count": null,
   "metadata": {
    "collapsed": false,
    "deletable": true,
    "editable": true
   },
   "outputs": [],
   "source": [
    "import cv2\n",
    "import numpy as np\n",
    "import matplotlib\n",
    "import matplotlib.pyplot as plt\n",
    "%matplotlib inline\n",
    "from utils import vis_hybrid_image, load_image, save_image\n",
    "from student_code import my_imfilter, create_hybrid_image\n",
    "%load_ext autoreload\n",
    "%autoreload 2\n",
    "\n",
    "\n",
    "# load_image loads image as an RGB image.\n",
    "# The resultant array data-type is 'floting point' numpy array\n",
    "# elements r\n",
    "image1 = load_image('../data/dog.bmp')\n",
    "image2 = load_image('../data/cat.bmp')\n",
    "\n",
    "print(image1.dtype)\n",
    "\n",
    "# display the dog and cat images\n",
    "plt.figure(figsize=(3,3)); plt.imshow((image1*255).astype(np.uint8));\n",
    "plt.figure(figsize=(3,3)); plt.imshow((image2*255).astype(np.uint8));"
   ]
  },
  {
   "cell_type": "markdown",
   "metadata": {
    "deletable": true,
    "editable": true
   },
   "source": [
    "## Create filter"
   ]
  },
  {
   "cell_type": "code",
   "execution_count": null,
   "metadata": {
    "collapsed": false,
    "deletable": true,
    "editable": true
   },
   "outputs": [],
   "source": [
    "cutoff_frequency = 7\n",
    "filter = cv2.getGaussianKernel(ksize=cutoff_frequency*4+1,\n",
    "                               sigma=cutoff_frequency)\n",
    "filter = np.dot(filter, filter.T)\n",
    "\n",
    "# let's take a look at the filter!\n",
    "plt.figure(figsize=(4,4)); plt.imshow(filter);"
   ]
  },
  {
   "cell_type": "markdown",
   "metadata": {
    "deletable": true,
    "editable": true
   },
   "source": [
    "## Apply filter to image\n",
    "Both functions you need to implement in this project can be found in _student_\\__code.py_. Start by implementing _my_\\__imfilter_, which takes both a filter and an image, and returns the filtered image. This code block will use your _my_\\__imfilter_ function to create and display a blurry version of the dog image."
   ]
  },
  {
   "cell_type": "code",
   "execution_count": null,
   "metadata": {
    "collapsed": false,
    "deletable": true,
    "editable": true
   },
   "outputs": [],
   "source": [
    "blurry_dog = my_imfilter(image1, filter)\n",
    "plt.figure(); plt.imshow((blurry_dog*255).astype(np.uint8));"
   ]
  },
  {
   "cell_type": "markdown",
   "metadata": {
    "deletable": true,
    "editable": true
   },
   "source": [
    "## Create hybrid image\n",
    "Next, implement _create_\\__hybrid_\\__image_, which takes two images and makes a hybrid image using the low frequency content from one image and the high frequency content from another."
   ]
  },
  {
   "cell_type": "code",
   "execution_count": null,
   "metadata": {
    "collapsed": false,
    "deletable": true,
    "editable": true
   },
   "outputs": [],
   "source": [
    "low_frequencies, high_frequencies, hybrid_image = create_hybrid_image(image1, image2, filter)\n",
    "vis = vis_hybrid_image(hybrid_image)"
   ]
  },
  {
   "cell_type": "markdown",
   "metadata": {
    "deletable": true,
    "editable": true
   },
   "source": [
    "## Show results"
   ]
  },
  {
   "cell_type": "code",
   "execution_count": null,
   "metadata": {
    "collapsed": false,
    "deletable": true,
    "editable": true
   },
   "outputs": [],
   "source": [
    "plt.figure(); plt.imshow((low_frequencies*255).astype(np.uint8));\n",
    "plt.figure(); plt.imshow(((high_frequencies+0.5)*255).astype(np.uint8));\n",
    "plt.figure(figsize=(20, 20)); plt.imshow(vis);"
   ]
  },
  {
   "cell_type": "markdown",
   "metadata": {
    "deletable": true,
    "editable": true
   },
   "source": [
    "## Save results"
   ]
  },
  {
   "cell_type": "code",
   "execution_count": null,
   "metadata": {
    "collapsed": true,
    "deletable": true,
    "editable": true
   },
   "outputs": [],
   "source": [
    "save_image('../results/low_frequencies.jpg', low_frequencies)\n",
    "save_image('../results/high_frequencies.jpg', high_frequencies+0.5)\n",
    "save_image('../results/hybrid_image.jpg', hybrid_image)\n",
    "save_image('../results/hybrid_image_scales.jpg', vis)"
   ]
  }
 ],
 "metadata": {
  "kernelspec": {
   "display_name": "Python 3",
   "language": "python",
   "name": "python3"
  },
  "language_info": {
   "codemirror_mode": {
    "name": "ipython",
    "version": 3
   },
   "file_extension": ".py",
   "mimetype": "text/x-python",
   "name": "python",
   "nbconvert_exporter": "python",
   "pygments_lexer": "ipython3",
   "version": "3.5.2"
  },
  "widgets": {
   "state": {},
   "version": "1.1.2"
  }
 },
 "nbformat": 4,
 "nbformat_minor": 2
}
