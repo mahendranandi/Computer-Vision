{
 "cells": [
  {
   "cell_type": "code",
   "execution_count": 33,
   "metadata": {
    "collapsed": false
   },
   "outputs": [
    {
     "name": "stdout",
     "output_type": "stream",
     "text": [
      "The autoreload extension is already loaded. To reload it, use:\n",
      "  %reload_ext autoreload\n"
     ]
    }
   ],
   "source": [
    "import cv2\n",
    "import numpy as np\n",
    "import matplotlib\n",
    "import matplotlib.pyplot as plt\n",
    "import time\n",
    "\n",
    "%matplotlib inline\n",
    "from utils import  canny_adjust, clip, hough_lines_draw, hough_circles_draw, preprocess, plotFigure, plotFigureGray\n",
    "# from student_code\n",
    "%load_ext autoreload\n",
    "%autoreload 2\n",
    "\n",
    "\n",
    "# load_image loads image as an RGB image.\n",
    "# The resultant array data-type is 'floting point' numpy array\n",
    "# elements r\n",
    "\n",
    "\n",
    "image0 = cv2.imread('../data/input0.png')\n",
    "# plotFigure(image0)\n",
    "edge_img0 = preprocess(image0, 1, 1, 1, 40, 80) \n",
    "# plotFigureGray(edge_img0)\n",
    "\n"
   ]
  },
  {
   "cell_type": "code",
   "execution_count": 53,
   "metadata": {
    "collapsed": false
   },
   "outputs": [
    {
     "name": "stdout",
     "output_type": "stream",
     "text": [
      "[  0   1   2   3   4   5   6   7   8   9  10  11  12  13  14  15  16  17\n",
      "  18  19  20  21  22  23  24  25  26  27  28  29  30  31  32  33  34  35\n",
      "  36  37  38  39  40  41  42  43  44  45  46  47  48  49  50  51  52  53\n",
      "  54  55  56  57  58  59  60  61  62  63  64  65  66  67  68  69  70  71\n",
      "  72  73  74  75  76  77  78  79  80  81  82  83  84  85  86  87  88  89\n",
      "  90  91  92  93  94  95  96  97  98  99 100 101 102 103 104 105 106 107\n",
      " 108 109 110 111 112 113 114 115 116 117 118 119 120 121 122 123 124 125\n",
      " 126 127 128 129 130 131 132 133 134 135 136 137 138 139 140 141 142 143\n",
      " 144 145 146 147 148 149 150 151 152 153 154 155 156 157 158 159 160 161\n",
      " 162 163 164 165 166 167 168 169 170 171 172 173 174 175 176 177 178 179]\n",
      "360\n"
     ]
    }
   ],
   "source": [
    "thetas=np.arange(0,180)\n",
    "rho_max = int(np.linalg.norm(edge_img0.shape-np.array([1,1]), 2));\n",
    "rhos = np.arange(-rho_max, rho_max, rho_res)\n",
    "accumulator = np.zeros((len(rhos), len(thetas)), dtype=np.uint8)\n",
    "print(thetas)\n",
    "print(rho_max)\n"
   ]
  },
  {
   "cell_type": "code",
   "execution_count": null,
   "metadata": {
    "collapsed": true
   },
   "outputs": [],
   "source": [
    "yis, xis = np.nonzero(img) # use only edge points\n",
    "for idx in range(len(xis)):\n",
    "    x = xis[idx]\n",
    "    y = yis[idx]\n",
    "    temp_rhos = x * np.cos(np.deg2rad(thetas)) + y * np.sin(np.deg2rad(thetas))\n",
    "    temp_rhos = temp_rhos / rho_res + rho_max\n",
    "    m, n = accumulator.shape\n",
    "    valid_idxs = np.nonzero((temp_rhos < m) & (thetas < n))\n",
    "    temp_rhos = temp_rhos[valid_idxs]\n",
    "    temp_thetas = thetas[valid_idxs]\n",
    "    c = np.stack([temp_rhos,temp_thetas], 1)\n",
    "    cc = np.ascontiguousarray(c).view(np.dtype((np.void, c.dtype.itemsize * c.shape[1])))\n",
    "    _,idxs,counts = np.unique(cc, return_index=True, return_counts=True)\n",
    "    uc = c[idxs].astype(np.uint)\n",
    "    accumulator[uc[:,0], uc[:,1]] += counts.astype(np.uint)\n",
    "accumulator = cv2.normalize(accumulator, accumulator, 0, 255,\n",
    "                            cv2.NORM_MINMAX, dtype=cv2.CV_8UC1)"
   ]
  },
  {
   "cell_type": "code",
   "execution_count": null,
   "metadata": {
    "collapsed": true
   },
   "outputs": [],
   "source": []
  },
  {
   "cell_type": "code",
   "execution_count": null,
   "metadata": {
    "collapsed": true
   },
   "outputs": [],
   "source": []
  },
  {
   "cell_type": "code",
   "execution_count": null,
   "metadata": {
    "collapsed": true
   },
   "outputs": [],
   "source": []
  },
  {
   "cell_type": "code",
   "execution_count": 34,
   "metadata": {
    "collapsed": false
   },
   "outputs": [
    {
     "name": "stdout",
     "output_type": "stream",
     "text": [
      "(256, 256)\n"
     ]
    }
   ],
   "source": [
    "print(edge_img0.shape)"
   ]
  },
  {
   "cell_type": "code",
   "execution_count": 35,
   "metadata": {
    "collapsed": false
   },
   "outputs": [
    {
     "name": "stdout",
     "output_type": "stream",
     "text": [
      "362\n"
     ]
    }
   ],
   "source": [
    "height, width  = edge_img0.shape \n",
    "maxRho = int(np.hypot(height, width))\n",
    "print (maxRho)"
   ]
  },
  {
   "cell_type": "code",
   "execution_count": 36,
   "metadata": {
    "collapsed": true
   },
   "outputs": [],
   "source": [
    "rho_res = 1\n",
    "thetas=np.arange(0,180,1)\n",
    "rhos = np.arange(-maxRho, maxRho, rho_res)\n",
    "accumulator = np.zeros((len(rhos), len(thetas)), dtype=np.uint8)\n",
    "\n",
    "\n",
    "\n",
    "\n",
    "\n"
   ]
  },
  {
   "cell_type": "code",
   "execution_count": 37,
   "metadata": {
    "collapsed": false
   },
   "outputs": [
    {
     "name": "stdout",
     "output_type": "stream",
     "text": [
      "180\n"
     ]
    }
   ],
   "source": [
    "print(accumulator.shape[1])"
   ]
  },
  {
   "cell_type": "code",
   "execution_count": 38,
   "metadata": {
    "collapsed": true
   },
   "outputs": [],
   "source": [
    "y_edgepts, x_edgepts = np.nonzero(edge_img0) # use only edge points\n"
   ]
  },
  {
   "cell_type": "code",
   "execution_count": 46,
   "metadata": {
    "collapsed": false
   },
   "outputs": [
    {
     "name": "stdout",
     "output_type": "stream",
     "text": [
      "362 -362\n"
     ]
    }
   ],
   "source": [
    "print(maxRho, -maxRho)\n",
    "for idx in range(len(x_edgepts)):\n",
    "        x = x_edgepts[idx]\n",
    "        y = y_edgepts[idx]\n",
    "        for theta in range(len(thetas)): # X axis is theta\n",
    "            rho = int(x * np.cos(np.deg2rad(theta)) + y * np.sin(np.deg2rad(theta)) + 0.5)\n",
    "            if rho > -1* maxRho and rho < maxRho:\n",
    "                accumulator[rho + maxRho][theta] += 1\n",
    "            \n",
    "                \n",
    "                \n",
    "    "
   ]
  },
  {
   "cell_type": "code",
   "execution_count": null,
   "metadata": {
    "collapsed": true
   },
   "outputs": [],
   "source": []
  },
  {
   "cell_type": "code",
   "execution_count": 49,
   "metadata": {
    "collapsed": false
   },
   "outputs": [
    {
     "name": "stdout",
     "output_type": "stream",
     "text": [
      "245\n"
     ]
    }
   ],
   "source": [
    "print (accumulator.max())"
   ]
  },
  {
   "cell_type": "code",
   "execution_count": null,
   "metadata": {
    "collapsed": true
   },
   "outputs": [],
   "source": [
    "def hough_lines_vote_acc(img, rho_res=1, thetas):\n",
    "\n",
    "    height, width  = img.shape \n",
    "\n",
    "    maxRho = np.hypot(height, width)\n",
    "    print maxRho\n",
    "\n",
    "  \n",
    "    mry = int(mry/2)*2          #Make sure that this is even\n",
    "    him = Image.new(\"L\", (ntx, mry), 255)\n",
    "    phim = him.load()\n",
    " \n",
    "    rmax = hypot(nimx, mimy)\n",
    "    dr = rmax / (mry/2)\n",
    "    dth = pi / ntx\n",
    " \n",
    "    for jx in xrange(nimx):\n",
    "        for iy in xrange(mimy):\n",
    "            col = pim[jx, iy]\n",
    "            if col == 255: continue\n",
    "            for jtx in xrange(ntx):\n",
    "                th = dth * jtx\n",
    "                r = jx*cos(th) + iy*sin(th)\n",
    "                iry = mry/2 + int(r/dr+0.5)\n",
    "                phim[jtx, iry] -= 1\n",
    "    return him"
   ]
  }
 ],
 "metadata": {
  "kernelspec": {
   "display_name": "Python 3",
   "language": "python",
   "name": "python3"
  },
  "language_info": {
   "codemirror_mode": {
    "name": "ipython",
    "version": 3
   },
   "file_extension": ".py",
   "mimetype": "text/x-python",
   "name": "python",
   "nbconvert_exporter": "python",
   "pygments_lexer": "ipython3",
   "version": "3.5.2"
  }
 },
 "nbformat": 4,
 "nbformat_minor": 2
}
