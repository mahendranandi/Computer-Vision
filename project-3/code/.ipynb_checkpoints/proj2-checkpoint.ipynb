{
 "cells": [
  {
   "cell_type": "markdown",
   "metadata": {},
   "source": [
    "#  Project 2: Harris Corner Detection and Matching"
   ]
  },
  {
   "cell_type": "code",
   "execution_count": null,
   "metadata": {},
   "outputs": [],
   "source": [
    "import cv2\n",
    "import numpy as np\n",
    "from matplotlib import pyplot as plt\n",
    "from utils import plotFigureGray, plotFigure\n",
    "from student_code import harris_corners, get_keypoints, get_features"
   ]
  },
  {
   "cell_type": "markdown",
   "metadata": {},
   "source": [
    "## Open Two images for matching. Convert them into grayscale\n",
    "### Take two similar images and add the photos to folder data. Rename these images as img1.jpg, and img2.jpg"
   ]
  },
  {
   "cell_type": "code",
   "execution_count": null,
   "metadata": {},
   "outputs": [],
   "source": [
    "img1_orig = cv2.imread('../data/img1.jpg')\n",
    "img2_orig = cv2.imread('../data/img2.jpg')\n",
    "\n",
    "\n",
    "img1= np.float32(cv2.cvtColor(img1_orig,cv2.COLOR_BGR2GRAY))\n",
    "img2= np.float32(cv2.cvtColor(img2_orig,cv2.COLOR_BGR2GRAY))\n",
    "\n"
   ]
  },
  {
   "cell_type": "markdown",
   "metadata": {},
   "source": [
    "# Get Harris Corners, normalize the corner values between 0 and 255. "
   ]
  },
  {
   "cell_type": "code",
   "execution_count": null,
   "metadata": {},
   "outputs": [],
   "source": [
    "corners1, Ix1, Iy1 = harris_corners(img1, window_size=3, alpha=0.04, threshold=1e-3, nms_size=5)\n",
    "corners2, Ix2, Iy2 = harris_corners(img2, window_size=3, alpha=0.04, threshold=1e-3, nms_size=5)\n",
    "\n",
    "corners1 = cv2.normalize(corners1, corners1, alpha=0, beta=255,\n",
    "                       norm_type=cv2.NORM_MINMAX, dtype=cv2.CV_8U)\n",
    "corners2 = cv2.normalize(corners2, corners2, alpha=0, beta=255,\n",
    "                       norm_type=cv2.NORM_MINMAX, dtype=cv2.CV_8U)\n",
    "\n",
    "\n"
   ]
  },
  {
   "cell_type": "markdown",
   "metadata": {},
   "source": [
    "# Set the threshold for corners and generate key points from these corners"
   ]
  },
  {
   "cell_type": "code",
   "execution_count": null,
   "metadata": {},
   "outputs": [],
   "source": [
    "threshold = 80\n",
    "kp1 = get_keypoints(corners1, Ix1, Iy1, threshold)\n",
    "kp2 = get_keypoints(corners2, Ix2, Iy2, threshold)"
   ]
  },
  {
   "cell_type": "markdown",
   "metadata": {},
   "source": [
    "# Draw the key points. The line (radius) depicts the gradient"
   ]
  },
  {
   "cell_type": "code",
   "execution_count": null,
   "metadata": {},
   "outputs": [],
   "source": [
    "cv2.drawKeypoints(img1_orig, kp1, img1_orig, color=(255,0,0))\n",
    "                         \n",
    "plotFigure(img1_orig,12)\n",
    "plt.show()   "
   ]
  },
  {
   "cell_type": "code",
   "execution_count": null,
   "metadata": {},
   "outputs": [],
   "source": [
    "cv2.drawKeypoints(img2_orig, kp2, img2_orig,\n",
    "                          flags=cv2.DRAW_MATCHES_FLAGS_DRAW_RICH_KEYPOINTS)\n",
    "plotFigure(img2_orig,12)\n",
    "plt.show()   "
   ]
  },
  {
   "cell_type": "markdown",
   "metadata": {},
   "source": [
    "# From these key points, generate ORB descriptors. Then match these descriptors\n",
    "\n"
   ]
  },
  {
   "cell_type": "code",
   "execution_count": null,
   "metadata": {},
   "outputs": [],
   "source": [
    "orb = cv2.ORB_create()\n",
    "\n",
    "# create sift instance\n",
    "# sift = cv2.xfeatures2d.SIFT_create()\n",
    "# get descriptors\n",
    "descriptors1 = orb.compute(img1_orig, kp1)[1]\n",
    "descriptors2 = orb.compute(img2_orig, kp2)[1]\n",
    "\n",
    "\n"
   ]
  },
  {
   "cell_type": "code",
   "execution_count": null,
   "metadata": {},
   "outputs": [],
   "source": [
    "print(descriptors1)"
   ]
  },
  {
   "cell_type": "code",
   "execution_count": null,
   "metadata": {},
   "outputs": [],
   "source": [
    "\n",
    "# get matches\n",
    "bfm = cv2.BFMatcher(cv2.NORM_L2, crossCheck=True)\n",
    "matches = bfm.match(descriptors1, descriptors2)\n",
    "matches = sorted(matches, key = lambda x:x.distance)\n",
    "\n",
    "img3 = np.array([])\n",
    "\n",
    "img3 = cv2.drawMatches(img1_orig,kp1,img2_orig,kp2,matches[:10], img3, flags=2)\n",
    "\n"
   ]
  },
  {
   "cell_type": "code",
   "execution_count": null,
   "metadata": {},
   "outputs": [],
   "source": [
    "plotFigure(img3,12)\n",
    "plt.show() \n",
    "cv2.imwrite('../results/matched.png', img3)\n"
   ]
  },
  {
   "cell_type": "markdown",
   "metadata": {},
   "source": [
    "## Custom SIFT descriptor"
   ]
  },
  {
   "cell_type": "code",
   "execution_count": null,
   "metadata": {},
   "outputs": [],
   "source": [
    "import math"
   ]
  },
  {
   "cell_type": "code",
   "execution_count": null,
   "metadata": {},
   "outputs": [],
   "source": [
    "descriptors1 = get_features(img1, kp1, 16)\n",
    "descriptors2 = get_features(img2, kp2, 16)"
   ]
  },
  {
   "cell_type": "code",
   "execution_count": null,
   "metadata": {},
   "outputs": [],
   "source": [
    "descriptors1 = np.float32(descriptors1)\n",
    "descriptors2 = np.float32(descriptors2)\n",
    "\n",
    "# get matches\n",
    "bfm = cv2.BFMatcher(cv2.NORM_L2, crossCheck=True)\n",
    "matches = bfm.match(descriptors1, descriptors2)\n",
    "matches = sorted(matches, key = lambda x:x.distance)\n",
    "\n",
    "img3 = np.array([])\n",
    "\n",
    "img3 = cv2.drawMatches(img1_orig,kp1,img2_orig,kp2,matches[:10], img3, flags=2)\n",
    "\n",
    "\n",
    "\n"
   ]
  },
  {
   "cell_type": "code",
   "execution_count": null,
   "metadata": {},
   "outputs": [],
   "source": [
    "plotFigure(img3,12)\n",
    "plt.show() \n",
    "cv2.imwrite('../results/matched_SIFT.png', img3)\n"
   ]
  }
 ],
 "metadata": {
  "kernelspec": {
   "display_name": "Python 3",
   "language": "python",
   "name": "python3"
  },
  "language_info": {
   "codemirror_mode": {
    "name": "ipython",
    "version": 3
   },
   "file_extension": ".py",
   "mimetype": "text/x-python",
   "name": "python",
   "nbconvert_exporter": "python",
   "pygments_lexer": "ipython3",
   "version": "3.7.10"
  }
 },
 "nbformat": 4,
 "nbformat_minor": 2
}
